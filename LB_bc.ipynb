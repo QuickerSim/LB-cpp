{
 "cells": [
  {
   "cell_type": "code",
   "execution_count": 1,
   "metadata": {},
   "outputs": [],
   "source": [
    "from sympy import *"
   ]
  },
  {
   "cell_type": "code",
   "execution_count": 118,
   "metadata": {},
   "outputs": [],
   "source": [
    "ux, uy, rho = symbols('ux uy rho')\n",
    "f0, f1, f2, f3, f4, f5, f6, f7, f8 = symbols('f0 f1 f2 f3 f4 f5 f6 f7 f8')\n",
    "f1eq, f3eq = symbols('f1eq f3eq')"
   ]
  },
  {
   "cell_type": "code",
   "execution_count": null,
   "metadata": {},
   "outputs": [],
   "source": []
  },
  {
   "cell_type": "markdown",
   "metadata": {},
   "source": [
    "# North velocity"
   ]
  },
  {
   "cell_type": "code",
   "execution_count": 151,
   "metadata": {},
   "outputs": [],
   "source": [
    "eq1 = f0 + f1 + f2 + f3 + f4 + f5 + f6 + f7 + f8 - rho\n",
    "eq2 = -rho * ux + f1 - f3 + f5 - f6 - f7 + f8\n",
    "eq3 = -rho * uy + f2 - f4 + f5 + f6 - f7 - f8\n",
    "\n",
    "f7s = solve(eq2 + eq3,f7)\n",
    "f8s = solve(eq2 - eq3,f8)"
   ]
  },
  {
   "cell_type": "code",
   "execution_count": 152,
   "metadata": {},
   "outputs": [
    {
     "data": {
      "text/plain": [
       "(f1/2 - f3/2 + f5 - rho*ux/2 - 0.166666666666667*rho*uy,\n",
       " -f1/2 + f3/2 + f6 + rho*ux/2 - 0.166666666666667*rho*uy)"
      ]
     },
     "execution_count": 152,
     "metadata": {},
     "output_type": "execute_result"
    }
   ],
   "source": [
    "(f7s[0].subs(f4, f2 - 2/3*rho*uy), \n",
    " f8s[0].subs(f4, f2 - 2/3*rho*uy))"
   ]
  },
  {
   "cell_type": "markdown",
   "metadata": {},
   "source": [
    "# South velocity"
   ]
  },
  {
   "cell_type": "code",
   "execution_count": 153,
   "metadata": {},
   "outputs": [],
   "source": [
    "eq1 = f0 + f1 + f2 + f3 + f4 + f5 + f6 + f7 + f8 - rho\n",
    "eq2 = -rho * ux + f1 - f3 + f5 - f6 - f7 + f8\n",
    "eq3 = -rho * uy + f2 - f4 + f5 + f6 - f7 - f8\n",
    "\n",
    "f5s = solve(eq2 + eq3,f5)\n",
    "f6s = solve(eq2 - eq3,f6)"
   ]
  },
  {
   "cell_type": "code",
   "execution_count": 154,
   "metadata": {},
   "outputs": [
    {
     "data": {
      "text/plain": [
       "(-f1/2 + f3/2 + f7 + rho*ux/2 + 0.166666666666667*rho*uy,\n",
       " f1/2 - f3/2 + f8 - rho*ux/2 + 0.166666666666667*rho*uy)"
      ]
     },
     "execution_count": 154,
     "metadata": {},
     "output_type": "execute_result"
    }
   ],
   "source": [
    "(f5s[0].subs(f2, f4 + 2/3*rho*uy), \n",
    " f6s[0].subs(f2, f4 + 2/3*rho*uy))"
   ]
  },
  {
   "cell_type": "markdown",
   "metadata": {},
   "source": [
    "# East velocity"
   ]
  },
  {
   "cell_type": "code",
   "execution_count": 144,
   "metadata": {},
   "outputs": [],
   "source": [
    "eq1 = f0 + f1 + f2 + f3 + f4 + f5 + f6 + f7 + f8 - rho\n",
    "eq2 = -rho * ux + f1 - f3 + f5 - f6 - f7 + f8\n",
    "eq3 = -rho * uy + f2 - f4 + f5 + f6 - f7 - f8\n",
    "\n",
    "f7s = solve(eq2 + eq3,f7)\n",
    "f6s = solve(eq2 - eq3,f6)"
   ]
  },
  {
   "cell_type": "code",
   "execution_count": 145,
   "metadata": {},
   "outputs": [
    {
     "data": {
      "text/plain": [
       "(-f2/2 + f4/2 + f8 - 0.166666666666667*rho*ux + rho*uy/2,\n",
       " f2/2 - f4/2 + f5 - 0.166666666666667*rho*ux - rho*uy/2)"
      ]
     },
     "execution_count": 145,
     "metadata": {},
     "output_type": "execute_result"
    }
   ],
   "source": [
    "(f6s[0].subs(f3, f1 - 2/3*rho*ux), \n",
    " f7s[0].subs(f3, f1 - 2/3*rho*ux))"
   ]
  },
  {
   "cell_type": "markdown",
   "metadata": {},
   "source": [
    "# West velocity"
   ]
  },
  {
   "cell_type": "code",
   "execution_count": 162,
   "metadata": {},
   "outputs": [],
   "source": [
    "eq1 = f0 + f1 + f2 + f3 + f4 + f5 + f6 + f7 + f8 - rho\n",
    "eq2 = -rho * ux + f1 - f3 + f5 - f6 - f7 + f8\n",
    "eq3 = -rho * uy + f2 - f4 + f5 + f6 - f7 - f8\n",
    "\n",
    "f5s = solve(eq2 + eq3,f5)\n",
    "f8s = solve(eq2 - eq3,f8)"
   ]
  },
  {
   "cell_type": "code",
   "execution_count": 163,
   "metadata": {},
   "outputs": [
    {
     "data": {
      "text/plain": [
       "(-f2/2 + f4/2 + f7 + 0.166666666666667*rho*ux + rho*uy/2,\n",
       " f2/2 - f4/2 + f6 + 0.166666666666667*rho*ux - rho*uy/2)"
      ]
     },
     "execution_count": 163,
     "metadata": {},
     "output_type": "execute_result"
    }
   ],
   "source": [
    "(f5s[0].subs(f1, f3 + 2/3*rho*ux), \n",
    " f8s[0].subs(f1, f3 + 2/3*rho*ux))"
   ]
  },
  {
   "cell_type": "code",
   "execution_count": null,
   "metadata": {},
   "outputs": [],
   "source": []
  },
  {
   "cell_type": "markdown",
   "metadata": {},
   "source": [
    "# tests"
   ]
  },
  {
   "cell_type": "code",
   "execution_count": 1,
   "metadata": {},
   "outputs": [],
   "source": [
    "%matplotlib inline\n",
    "\n",
    "import matplotlib\n",
    "import numpy as np\n",
    "import matplotlib.pyplot as plt"
   ]
  },
  {
   "cell_type": "code",
   "execution_count": 8,
   "metadata": {},
   "outputs": [],
   "source": [
    "np.arange?"
   ]
  },
  {
   "cell_type": "code",
   "execution_count": 9,
   "metadata": {},
   "outputs": [],
   "source": [
    "x = np.arange(0,1,0.01)"
   ]
  },
  {
   "cell_type": "code",
   "execution_count": 39,
   "metadata": {},
   "outputs": [
    {
     "data": {
      "image/png": "[encoded data removed]",
      "text/plain": [
       "<Figure size 432x288 with 1 Axes>"
      ]
     },
     "metadata": {
      "needs_background": "light"
     },
     "output_type": "display_data"
    }
   ],
   "source": [
    "y = (-x * (x-1))/3\n",
    "plt.plot(x, y)\n",
    "plt.show()"
   ]
  },
  {
   "cell_type": "code",
   "execution_count": 17,
   "metadata": {},
   "outputs": [
    {
     "data": {
      "image/png": "[encoded data removed]",
      "text/plain": [
       "<Figure size 432x288 with 1 Axes>"
      ]
     },
     "metadata": {
      "needs_background": "light"
     },
     "output_type": "display_data"
    }
   ],
   "source": [
    "plt.plot(x, y)\n",
    "plt.show()"
   ]
  },
  {
   "cell_type": "code",
   "execution_count": null,
   "metadata": {},
   "outputs": [],
   "source": []
  },
  {
   "cell_type": "code",
   "execution_count": null,
   "metadata": {},
   "outputs": [],
   "source": []
  },
  {
   "cell_type": "code",
   "execution_count": null,
   "metadata": {},
   "outputs": [],
   "source": []
  },
  {
   "cell_type": "code",
   "execution_count": null,
   "metadata": {},
   "outputs": [],
   "source": []
  },
  {
   "cell_type": "code",
   "execution_count": null,
   "metadata": {},
   "outputs": [],
   "source": []
  },
  {
   "cell_type": "code",
   "execution_count": null,
   "metadata": {},
   "outputs": [],
   "source": []
  },
  {
   "cell_type": "code",
   "execution_count": null,
   "metadata": {},
   "outputs": [],
   "source": []
  },
  {
   "cell_type": "code",
   "execution_count": null,
   "metadata": {},
   "outputs": [],
   "source": []
  },
  {
   "cell_type": "code",
   "execution_count": null,
   "metadata": {},
   "outputs": [],
   "source": []
  },
  {
   "cell_type": "code",
   "execution_count": null,
   "metadata": {},
   "outputs": [],
   "source": []
  },
  {
   "cell_type": "code",
   "execution_count": null,
   "metadata": {},
   "outputs": [],
   "source": []
  },
  {
   "cell_type": "code",
   "execution_count": null,
   "metadata": {},
   "outputs": [],
   "source": []
  },
  {
   "cell_type": "code",
   "execution_count": null,
   "metadata": {},
   "outputs": [],
   "source": []
  },
  {
   "cell_type": "code",
   "execution_count": null,
   "metadata": {},
   "outputs": [],
   "source": []
  },
  {
   "cell_type": "code",
   "execution_count": null,
   "metadata": {},
   "outputs": [],
   "source": []
  },
  {
   "cell_type": "code",
   "execution_count": null,
   "metadata": {},
   "outputs": [],
   "source": []
  },
  {
   "cell_type": "code",
   "execution_count": null,
   "metadata": {},
   "outputs": [],
   "source": []
  },
  {
   "cell_type": "code",
   "execution_count": null,
   "metadata": {},
   "outputs": [],
   "source": []
  },
  {
   "cell_type": "code",
   "execution_count": null,
   "metadata": {},
   "outputs": [],
   "source": []
  },
  {
   "cell_type": "code",
   "execution_count": null,
   "metadata": {},
   "outputs": [],
   "source": []
  },
  {
   "cell_type": "code",
   "execution_count": null,
   "metadata": {},
   "outputs": [],
   "source": []
  }
 ],
 "metadata": {
  "kernelspec": {
   "display_name": "Python 3",
   "language": "python",
   "name": "python3"
  },
  "language_info": {
   "codemirror_mode": {
    "name": "ipython",
    "version": 3
   },
   "file_extension": ".py",
   "mimetype": "text/x-python",
   "name": "python",
   "nbconvert_exporter": "python",
   "pygments_lexer": "ipython3",
   "version": "3.7.0"
  }
 },
 "nbformat": 4,
 "nbformat_minor": 2
}
